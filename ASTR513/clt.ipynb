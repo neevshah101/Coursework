{
 "cells": [
  {
   "cell_type": "code",
   "execution_count": null,
   "id": "c378ae65",
   "metadata": {},
   "outputs": [],
   "source": [
    "import numpy as np\n",
    "from scipy.stats import uniform, expon, cauchy\n",
    "\n",
    "# compute sample mean for uniform, exponential, cauchy distributions\n"
   ]
  },
  {
   "cell_type": "code",
   "execution_count": null,
   "id": "ee4078d8",
   "metadata": {},
   "outputs": [],
   "source": [
    "import matplotlib.pyplot as plt\n",
    "\n",
    "# plot the sample mean for n = [1, 10, 20, 30, 40, 100]\n"
   ]
  },
  {
   "cell_type": "code",
   "execution_count": null,
   "id": "4ee75579",
   "metadata": {},
   "outputs": [],
   "source": [
    "from scipy.stats import binom\n",
    "\n",
    "ylist = np.arange(11)\n",
    "print(ylist)"
   ]
  },
  {
   "cell_type": "code",
   "execution_count": null,
   "id": "8be53453",
   "metadata": {},
   "outputs": [],
   "source": [
    "# calculate using Binomial\n",
    "\n",
    "n = 50\n",
    "bin_p = 0.25\n",
    "\n",
    "ypmf = binom.pmf(ylist,n,bin_p)\n",
    "yprob = np.sum(ypmf)\n",
    "print(yprob)"
   ]
  },
  {
   "cell_type": "code",
   "execution_count": null,
   "id": "0e50c3e6",
   "metadata": {},
   "outputs": [],
   "source": [
    "# calculate using Normal approximation\n",
    "from scipy.stats import norm\n",
    "\n",
    "z1 = (10.-n*bin_p)/(n*bin_p*(1.-bin_p))**0.5 # without continuity correction\n",
    "z2 = (10.5-n*bin_p)/(n*bin_p*(1.-bin_p))**0.5 # with continuity correction\n",
    "print(z1,z2)\n",
    "print(norm.cdf(z1),norm.cdf(z2))"
   ]
  },
  {
   "cell_type": "code",
   "execution_count": null,
   "id": "93d31b6b",
   "metadata": {},
   "outputs": [],
   "source": [
    "# flight ticket\n"
   ]
  },
  {
   "cell_type": "code",
   "execution_count": null,
   "id": "409424b5",
   "metadata": {},
   "outputs": [],
   "source": [
    "# lower no show probability\n"
   ]
  },
  {
   "cell_type": "code",
   "execution_count": null,
   "id": "41a84937",
   "metadata": {},
   "outputs": [],
   "source": []
  }
 ],
 "metadata": {
  "kernelspec": {
   "display_name": "Python 3 (ipykernel)",
   "language": "python",
   "name": "python3"
  },
  "language_info": {
   "codemirror_mode": {
    "name": "ipython",
    "version": 3
   },
   "file_extension": ".py",
   "mimetype": "text/x-python",
   "name": "python",
   "nbconvert_exporter": "python",
   "pygments_lexer": "ipython3",
   "version": "3.10.8"
  }
 },
 "nbformat": 4,
 "nbformat_minor": 5
}
