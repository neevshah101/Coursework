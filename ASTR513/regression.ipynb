{
 "cells": [
  {
   "cell_type": "code",
   "execution_count": null,
   "id": "c146a434",
   "metadata": {},
   "outputs": [],
   "source": [
    "import numpy as np\n",
    "import matplotlib.pyplot as plt\n",
    "from scipy.stats import norm"
   ]
  },
  {
   "cell_type": "code",
   "execution_count": null,
   "id": "77a94709",
   "metadata": {},
   "outputs": [],
   "source": [
    "x = np.arange(1,100,3)\n",
    "y = 2*x+3"
   ]
  },
  {
   "cell_type": "code",
   "execution_count": null,
   "id": "be40e03e",
   "metadata": {},
   "outputs": [],
   "source": [
    "plt.plot(x,y,'r-')"
   ]
  },
  {
   "cell_type": "code",
   "execution_count": null,
   "id": "e6ac1c41",
   "metadata": {},
   "outputs": [],
   "source": [
    "# now add Gaussian noise\n",
    "sigma = 10\n",
    "eps = norm.rvs(scale=sigma,size=len(y))\n",
    "y_noisy = y+eps"
   ]
  },
  {
   "cell_type": "code",
   "execution_count": null,
   "id": "058278c2",
   "metadata": {},
   "outputs": [],
   "source": [
    "plt.scatter(x,y_noisy,label='noisy')\n",
    "plt.plot(x,y,'r-',label='true')\n",
    "plt.legend(loc=2)"
   ]
  },
  {
   "cell_type": "code",
   "execution_count": null,
   "id": "48fcc452",
   "metadata": {},
   "outputs": [],
   "source": [
    "# use our defined estimators\n",
    "\n",
    "def b1(x,y_noisy):\n",
    "    numerator = np.sum(x*y_noisy)-len(x)*np.mean(x)*np.mean(y_noisy)\n",
    "    denominator = np.sum(x*x)-len(x)*np.mean(x)*np.mean(x)\n",
    "    return numerator/denominator\n",
    "\n",
    "def b0(x,y_noisy):\n",
    "    numerator = np.sum(x*y_noisy)-len(x)*np.mean(x)*np.mean(y_noisy)\n",
    "    denominator = np.sum(x*x)-len(x)*np.mean(x)*np.mean(x)\n",
    "    return np.mean(y_noisy)-numerator/denominator*np.mean(x)"
   ]
  },
  {
   "cell_type": "code",
   "execution_count": null,
   "id": "9028e459",
   "metadata": {},
   "outputs": [],
   "source": [
    "b1_hat = b1(x,y_noisy)\n",
    "b0_hat = b0(x,y_noisy)\n",
    "print('slope:',b1_hat,'intercept:',b0_hat)"
   ]
  },
  {
   "cell_type": "code",
   "execution_count": null,
   "id": "2a7afae3",
   "metadata": {},
   "outputs": [],
   "source": [
    "# LS regression with numpy.linalg.lstsq\n",
    "\n",
    "A = np.vstack([x, np.ones(len(x))]).T\n",
    "coeff, residual, rank, s = np.linalg.lstsq(A, y_noisy)\n",
    "b1_np, b0_np = coeff\n",
    "print('slope:',b1_np,'intercept:',b0_np, residual[0])"
   ]
  },
  {
   "cell_type": "code",
   "execution_count": null,
   "id": "ada0f1f3",
   "metadata": {},
   "outputs": [],
   "source": [
    "plt.scatter(x,y_noisy,label='noisy')\n",
    "plt.plot(x,y,'r-',label='true')\n",
    "plt.plot(x,b1_hat*x+b0_hat,'g-',label='estimator')\n",
    "plt.plot(x,b1_np*x+b0_np,'b-',label='fit')\n",
    "plt.legend(loc=2,prop={'size': 12})"
   ]
  },
  {
   "cell_type": "code",
   "execution_count": null,
   "id": "93a5b6ee",
   "metadata": {},
   "outputs": [],
   "source": [
    "# distribution of b1\n",
    "\n",
    "from scipy.stats import tvar\n",
    "\n",
    "s2 = tvar(x) # sample variance\n",
    "ki = (x-np.mean(x))/((len(x)-1)*s2)\n",
    "b1_hat_2 = np.sum(ki*y_noisy)\n",
    "b0_hat_2 = np.mean(y_noisy)-b1_hat_2*np.mean(x)\n",
    "print(b1_hat_2,b0_hat_2)"
   ]
  },
  {
   "cell_type": "code",
   "execution_count": null,
   "id": "e77b02b4",
   "metadata": {},
   "outputs": [],
   "source": [
    "# Homework: follow the lecture to find 90% confidence interval for beta_0 and beta_1\n",
    "# is the true value inside your confidence interval?\n"
   ]
  }
 ],
 "metadata": {
  "kernelspec": {
   "display_name": "Python 3 (ipykernel)",
   "language": "python",
   "name": "python3"
  },
  "language_info": {
   "codemirror_mode": {
    "name": "ipython",
    "version": 3
   },
   "file_extension": ".py",
   "mimetype": "text/x-python",
   "name": "python",
   "nbconvert_exporter": "python",
   "pygments_lexer": "ipython3",
   "version": "3.10.8"
  }
 },
 "nbformat": 4,
 "nbformat_minor": 5
}
