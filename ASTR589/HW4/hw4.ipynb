{
 "cells": [
  {
   "cell_type": "code",
   "execution_count": 3,
   "metadata": {},
   "outputs": [
    {
     "name": "stdout",
     "output_type": "stream",
     "text": [
      "Opacity (kappa) = 1.3173e+03 cm2 / g\n"
     ]
    }
   ],
   "source": [
    "import numpy as np\n",
    "from astropy import units as u\n",
    "\n",
    "# Constants with units\n",
    "mp = 1.6726e-27 * u.kg  # mass of proton\n",
    "Aul = 2.8843e-15 / u.s  # Einstein A coefficient\n",
    "h = 6.626e-34 * u.J * u.s  # Planck's constant\n",
    "c = 3.00e8 * u.m / u.s  # speed of light\n",
    "k = 1.38e-23 * u.J / u.K  # Boltzmann's constant\n",
    "T = 100 * u.K  # Temperature\n",
    "v = 1000 * u.m / u.s  # velocity\n",
    "lambda_ul = 21.106e-2 * u.m  # wavelength (21.106 cm)\n",
    "\n",
    "# Frequency calculation from wavelength\n",
    "nu_ul = c / lambda_ul  # Frequency in Hz\n",
    "\n",
    "# Define phi(nu_ul)\n",
    "def phi(nu_ul, v):\n",
    "    return lambda_ul / (v * np.sqrt(2 * np.pi))\n",
    "\n",
    "# Calculate kappa\n",
    "kappa = (3 / (32 * np.pi)) * (1 / mp) * (h * c**2 / nu_ul) * (Aul / (k * T)) * phi(nu_ul, v)\n",
    "\n",
    "# Print the result with units\n",
    "print(f\"Opacity (kappa) = {kappa.to(u.cm**2 / u.g):.4e}\")\n"
   ]
  },
  {
   "cell_type": "code",
   "execution_count": 7,
   "metadata": {},
   "outputs": [
    {
     "name": "stdout",
     "output_type": "stream",
     "text": [
      "Optical Depth (tau) = 2.2033e+00\n"
     ]
    }
   ],
   "source": [
    "import numpy as np\n",
    "from astropy import units as u\n",
    "\n",
    "# Constants with units\n",
    "mp = 1.6726e-27 * u.kg  # mass of proton\n",
    "N_H = 1e21 / u.cm**2  # hydrogen column density\n",
    "\n",
    "# Opacity (kappa) calculation (using previous code)\n",
    "# Assuming kappa is already calculated or using a placeholder for this example\n",
    "kappa_placeholder = kappa.to(u.cm**2 / u.g)  # Example value for kappa, replace with actual kappa calculation\n",
    "\n",
    "# Calculate optical depth (tau)\n",
    "tau = mp * kappa_placeholder * N_H\n",
    "\n",
    "# Convert tau to a more convenient unit, e.g., dimensionless or with specific context\n",
    "tau_value = tau.cgs.value\n",
    "\n",
    "# Print the result\n",
    "print(f\"Optical Depth (tau) = {tau_value:.4e}\")\n"
   ]
  },
  {
   "cell_type": "code",
   "execution_count": null,
   "metadata": {},
   "outputs": [],
   "source": []
  }
 ],
 "metadata": {
  "kernelspec": {
   "display_name": "base",
   "language": "python",
   "name": "python3"
  },
  "language_info": {
   "codemirror_mode": {
    "name": "ipython",
    "version": 3
   },
   "file_extension": ".py",
   "mimetype": "text/x-python",
   "name": "python",
   "nbconvert_exporter": "python",
   "pygments_lexer": "ipython3",
   "version": "3.10.12"
  }
 },
 "nbformat": 4,
 "nbformat_minor": 2
}
