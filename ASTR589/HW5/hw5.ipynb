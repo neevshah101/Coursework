{
 "cells": [
  {
   "cell_type": "code",
   "execution_count": 54,
   "metadata": {},
   "outputs": [
    {
     "name": "stdout",
     "output_type": "stream",
     "text": [
      "Optical depth (tau) of the Sun: 3.335e+10\n",
      "Optical depth squared (tau^2): 1.112e+21\n",
      "R * tau / c in years: 2.452e+03 yr\n"
     ]
    }
   ],
   "source": [
    "from astropy.constants import R_sun, M_sun, c\n",
    "from astropy import units as u\n",
    "import numpy as np\n",
    "\n",
    "# Constants\n",
    "X = 0.7  # Hydrogen mass fraction\n",
    "kappa = 0.2 * (1 + X) * u.cm**2 / u.g  # Opacity\n",
    "\n",
    "# Mass and radius of the Sun with astropy units\n",
    "R = R_sun  # Radius of the Sun in meters with astropy units\n",
    "M = M_sun  # Mass of the Sun in kilograms with astropy units\n",
    "\n",
    "# Speed of light with astropy units\n",
    "c_value = c  # Speed of light in m/s with astropy units\n",
    "\n",
    "# Volume of the Sun (assuming a spherical shape)\n",
    "V = (4/3) * np.pi * R**3\n",
    "\n",
    "# Average density of the Sun\n",
    "rho = M / V  # Density in kg/m^3\n",
    "\n",
    "# Optical depth calculation\n",
    "tau = (rho * kappa * R).decompose()\n",
    "\n",
    "# Calculating tau^2\n",
    "tau_squared = tau**2\n",
    "\n",
    "# Calculating R * tau / c in seconds using astropy units\n",
    "R_tau_over_c = (R * tau) / c_value\n",
    "\n",
    "# Convert R_tau_over_c to years\n",
    "R_tau_over_c_years = R_tau_over_c.to(u.yr)\n",
    "\n",
    "# Output results\n",
    "print(f\"Optical depth (tau) of the Sun: {tau:.3e}\")\n",
    "print(f\"Optical depth squared (tau^2): {tau_squared:.3e}\")\n",
    "print(f\"R * tau / c in years: {R_tau_over_c_years:.3e}\")\n",
    "\n",
    "\n"
   ]
  },
  {
   "cell_type": "code",
   "execution_count": 37,
   "metadata": {},
   "outputs": [
    {
     "name": "stdout",
     "output_type": "stream",
     "text": [
      "Sun's surface flux: 6.294e+07 W / m2\n",
      "(3 / ac) * tau * F_sun_surface = 2.295e+06 K\n"
     ]
    }
   ],
   "source": [
    "from astropy.constants import c, sigma_sb, L_sun, R_sun, G, M_sun, m_p, R_sun, k_B\n",
    "from astropy import units as u\n",
    "\n",
    "# Constants: Sun's luminosity and radius from astropy.constants\n",
    "L_sun_value = L_sun  # Sun's luminosity in W\n",
    "R_sun_value = R_sun  # Sun's radius in meters\n",
    "\n",
    "# Calculate the Sun's surface flux using F_sun = L_sun / (4 * pi * R_sun^2)\n",
    "F_sun_surface = L_sun_value / (4 * np.pi * R_sun_value**2)  # Flux in W/m^2\n",
    "\n",
    "# speed of light 'c' from astropy.constants\n",
    "c_value = c  # Speed of light in m/s\n",
    "\n",
    "# Calculate (3 / ac) * tau * F_sun_surface\n",
    "result = ((3 / (4 * sigma_sb)) * tau * F_sun_surface)**0.25\n",
    "\n",
    "# Output the result with units\n",
    "print(f\"Sun's surface flux: {F_sun_surface:.3e}\")\n",
    "print(f\"(3 / ac) * tau * F_sun_surface = {result:.3e}\")\n"
   ]
  },
  {
   "cell_type": "code",
   "execution_count": 38,
   "metadata": {},
   "outputs": [
    {
     "data": {
      "text/latex": [
       "$15406815 \\; \\mathrm{K}$"
      ],
      "text/plain": [
       "<Quantity 15406815.21791763 K>"
      ]
     },
     "execution_count": 38,
     "metadata": {},
     "output_type": "execute_result"
    }
   ],
   "source": [
    "((2/3) * G * M_sun * m_p / (k_B* R_sun)).to('K')"
   ]
  },
  {
   "cell_type": "code",
   "execution_count": 52,
   "metadata": {},
   "outputs": [
    {
     "data": {
      "text/latex": [
       "$1.1194893 \\times 10^{-7} \\; \\mathrm{}$"
      ],
      "text/plain": [
       "<Quantity 1.11948933e-07>"
      ]
     },
     "execution_count": 52,
     "metadata": {},
     "output_type": "execute_result"
    }
   ],
   "source": [
    "Tvir = 1.54e7 * u.K\n",
    "Urad = (16 * np.pi / 9) * (sigma_sb/c) * Tvir**4 * R_sun**3\n",
    "RM = M_sun * c**2\n",
    "\n",
    "(Urad/RM).decompose()\n"
   ]
  },
  {
   "cell_type": "code",
   "execution_count": 56,
   "metadata": {},
   "outputs": [
    {
     "data": {
      "text/latex": [
       "$2295381.9 \\; \\mathrm{K}$"
      ],
      "text/plain": [
       "<Quantity 2295381.88093522 K>"
      ]
     },
     "execution_count": 56,
     "metadata": {},
     "output_type": "execute_result"
    }
   ],
   "source": [
    "Tc =(0.75 *  (F_sun_surface/sigma_sb) * tau)**0.25\n",
    "Tc"
   ]
  },
  {
   "cell_type": "code",
   "execution_count": 58,
   "metadata": {},
   "outputs": [
    {
     "data": {
      "text/latex": [
       "$6.957 \\times 10^{8} \\; \\mathrm{m}$"
      ],
      "text/plain": [
       "<<class 'astropy.constants.iau2015.IAU2015'> name='Nominal solar radius' value=695700000.0 uncertainty=0.0 unit='m' reference='IAU 2015 Resolution B 3'>"
      ]
     },
     "execution_count": 58,
     "metadata": {},
     "output_type": "execute_result"
    }
   ],
   "source": [
    "R_sun"
   ]
  },
  {
   "cell_type": "code",
   "execution_count": null,
   "metadata": {},
   "outputs": [],
   "source": []
  }
 ],
 "metadata": {
  "kernelspec": {
   "display_name": "base",
   "language": "python",
   "name": "python3"
  },
  "language_info": {
   "codemirror_mode": {
    "name": "ipython",
    "version": 3
   },
   "file_extension": ".py",
   "mimetype": "text/x-python",
   "name": "python",
   "nbconvert_exporter": "python",
   "pygments_lexer": "ipython3",
   "version": "3.10.12"
  }
 },
 "nbformat": 4,
 "nbformat_minor": 2
}
