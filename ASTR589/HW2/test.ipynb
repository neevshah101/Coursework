{
 "cells": [
  {
   "cell_type": "code",
   "execution_count": 3,
   "metadata": {},
   "outputs": [],
   "source": [
    "import numpy as np\n",
    "import scipy as sp"
   ]
  },
  {
   "cell_type": "code",
   "execution_count": 8,
   "metadata": {},
   "outputs": [],
   "source": [
    "def f(x):\n",
    "    return x**3 / (np.exp(x) - 1)"
   ]
  },
  {
   "cell_type": "code",
   "execution_count": 20,
   "metadata": {},
   "outputs": [],
   "source": [
    "value, error = sp.integrate.quad(f,0,50)"
   ]
  },
  {
   "cell_type": "code",
   "execution_count": 21,
   "metadata": {},
   "outputs": [
    {
     "name": "stdout",
     "output_type": "stream",
     "text": [
      "0.9999999999999989\n"
     ]
    }
   ],
   "source": [
    "answer = np.pi**4/15\n",
    "\n",
    "print(value / answer)"
   ]
  },
  {
   "cell_type": "code",
   "execution_count": 22,
   "metadata": {},
   "outputs": [
    {
     "data": {
      "text/plain": [
       "[0.09516258196404048,\n",
       " 0.486582880967408,\n",
       " 0.6321205588285577,\n",
       " 0.950212931632136,\n",
       " 0.9999546000702375]"
      ]
     },
     "execution_count": 22,
     "metadata": {},
     "output_type": "execute_result"
    }
   ],
   "source": [
    "[(1 - np.exp(-t)) for t in [0.1,2/3,1,3,10]]"
   ]
  },
  {
   "cell_type": "code",
   "execution_count": 23,
   "metadata": {},
   "outputs": [],
   "source": [
    "import astropy.constants as const\n",
    "import astropy.units as u"
   ]
  },
  {
   "cell_type": "code",
   "execution_count": 28,
   "metadata": {},
   "outputs": [],
   "source": [
    "h = const.h\n",
    "c = const.c\n",
    "k = const.k_B"
   ]
  },
  {
   "cell_type": "code",
   "execution_count": 57,
   "metadata": {},
   "outputs": [],
   "source": [
    "def T(tau,Teff):\n",
    "    return Teff * (0.75 * (tau + 2/3))**(0.25)\n",
    "\n",
    "def S(nu,T):\n",
    "    return (2 * h * nu**3 / (c**2 * (np.exp((h*nu)/(k*T)) - 1)))\n"
   ]
  },
  {
   "cell_type": "code",
   "execution_count": 52,
   "metadata": {},
   "outputs": [
    {
     "data": {
      "text/latex": [
       "$2.0464793 \\times 10^{-8} \\; \\mathrm{\\frac{J}{m^{2}}}$"
      ],
      "text/plain": [
       "<Quantity 2.04647932e-08 J / m2>"
      ]
     },
     "execution_count": 52,
     "metadata": {},
     "output_type": "execute_result"
    }
   ],
   "source": [
    "S(nus[0],Temp)"
   ]
  },
  {
   "cell_type": "code",
   "execution_count": 54,
   "metadata": {},
   "outputs": [
    {
     "data": {
      "text/latex": [
       "$[1.5523073 \\times 10^{14},~4.6569219 \\times 10^{14},~1.3970766 \\times 10^{15}] \\; \\mathrm{\\frac{1}{s}}$"
      ],
      "text/plain": [
       "<Quantity [1.55230729e+14, 4.65692186e+14, 1.39707656e+15] 1 / s>"
      ]
     },
     "execution_count": 54,
     "metadata": {},
     "output_type": "execute_result"
    }
   ],
   "source": [
    "nus"
   ]
  },
  {
   "cell_type": "code",
   "execution_count": 66,
   "metadata": {},
   "outputs": [],
   "source": [
    "def integrand(tau,mu,nu,Teff):\n",
    "    return ((S(nu,T(tau,Teff)) / mu) * np.exp(-tau/mu)).value * 1e8"
   ]
  },
  {
   "cell_type": "code",
   "execution_count": 67,
   "metadata": {},
   "outputs": [
    {
     "data": {
      "text/plain": [
       "1.4316667747736596"
      ]
     },
     "execution_count": 67,
     "metadata": {},
     "output_type": "execute_result"
    }
   ],
   "source": [
    "integrand(0.1,1,nus[0],Temp)"
   ]
  },
  {
   "cell_type": "code",
   "execution_count": 62,
   "metadata": {},
   "outputs": [],
   "source": [
    "Temp = 5700 * u.K #Sun\n",
    "\n",
    "factor  = np.array([1/3,1,3])\n",
    "xw = 3.921\n",
    "\n",
    "def nu(x,Teff):\n",
    "    return x*k*Teff/h\n",
    "\n",
    "nus = nu(factor*xw,Temp)"
   ]
  },
  {
   "cell_type": "code",
   "execution_count": 77,
   "metadata": {},
   "outputs": [],
   "source": [
    "def I(mu,nu,Teff):\n",
    "    return sp.integrate.quad(integrand,a = 0,b = 100,args = (mu,nu,Teff))"
   ]
  },
  {
   "cell_type": "code",
   "execution_count": 85,
   "metadata": {},
   "outputs": [],
   "source": [
    "mu = np.linspace(0.01,1,100)\n",
    "theta = np.arccos(mu)\n",
    "I_mu_nu = np.zeros((len(mu),len(nus)))\n",
    "\n",
    "for j,n in enumerate(nus):\n",
    "    for i,m in enumerate(mu):\n",
    "        I_mu_nu[i,j] = I(m,n,Temp)[0]\n",
    "    I_nu_1 = I(1,n,Temp)[0]\n",
    "    I_mu_nu[:,j] /= I_nu_1\n",
    "\n"
   ]
  },
  {
   "cell_type": "code",
   "execution_count": 91,
   "metadata": {},
   "outputs": [],
   "source": [
    "import matplotlib.pyplot as plt\n",
    "import scienceplots\n",
    "plt.style.use(['science'])"
   ]
  },
  {
   "cell_type": "code",
   "execution_count": 88,
   "metadata": {},
   "outputs": [],
   "source": [
    "b = 0.75 * (const.sigma_sb / np.pi) * Temp**4\n",
    "a = (2/3) * b\n",
    "I_bol_mu = (a + b*mu) / (a + b)"
   ]
  },
  {
   "cell_type": "code",
   "execution_count": 99,
   "metadata": {},
   "outputs": [
    {
     "data": {
      "image/png": "[encoded data removed]",
      "text/plain": [
       "<Figure size 350x262.5 with 1 Axes>"
      ]
     },
     "metadata": {},
     "output_type": "display_data"
    }
   ],
   "source": [
    "lw = 2\n",
    "plt.plot(theta*180/np.pi, I_mu_nu[:,0], label = r'$\\frac{x_w}{3}$', lw = lw)\n",
    "plt.plot(theta*180/np.pi, I_mu_nu[:,1], label = r'$x_w$', lw = lw)\n",
    "plt.plot(theta*180/np.pi, I_mu_nu[:,2], label = r'$3x_w$', lw = lw)\n",
    "plt.plot(theta*180/np.pi, I_bol_mu, linestyle = 'dashed', label = 'Bolometric', lw = lw)\n",
    "plt.xlabel(r'$\\theta = \\rm cos^{-1}(\\mu)$ (degrees)')\n",
    "plt.ylabel(r'$\\frac{I_{\\nu}(\\mu)}{I_{\\nu}(1)}$')\n",
    "plt.title('Frequency Dependent Limb Darkening')\n",
    "plt.legend()\n",
    "plt.savefig('limb-darkening.pdf', dpi = 300)"
   ]
  },
  {
   "cell_type": "code",
   "execution_count": null,
   "metadata": {},
   "outputs": [],
   "source": []
  }
 ],
 "metadata": {
  "kernelspec": {
   "display_name": "base",
   "language": "python",
   "name": "python3"
  },
  "language_info": {
   "codemirror_mode": {
    "name": "ipython",
    "version": 3
   },
   "file_extension": ".py",
   "mimetype": "text/x-python",
   "name": "python",
   "nbconvert_exporter": "python",
   "pygments_lexer": "ipython3",
   "version": "3.10.12"
  }
 },
 "nbformat": 4,
 "nbformat_minor": 2
}
